{
 "cells": [
  {
   "cell_type": "markdown",
   "metadata": {},
   "source": [
    "## Code for Portland elections\n"
   ]
  },
  {
   "cell_type": "code",
   "execution_count": null,
   "metadata": {},
   "outputs": [],
   "source": [
    "#For district one\n",
    "# Note that for the Portland elections, we are using the cleaned pickel file\n",
    "\n",
    "from votekit.pref_profile import PreferenceProfile\n",
    "from votekit.cleaning import remove_and_condense\n",
    "\n",
    "profile = PreferenceProfile.from_pickle('/Users/ss2776/Downloads/Portland_D1_cleaned_votekit_pref_profile-2.pkl')\n",
    "profile  = remove_and_condense(['Uncertified Write In'], profile)\n",
    " "
   ]
  },
  {
   "cell_type": "code",
   "execution_count": null,
   "metadata": {},
   "outputs": [
    {
     "data": {
      "text/plain": [
       "np.float64(0.866881502236788)"
      ]
     },
     "execution_count": 3,
     "metadata": {},
     "output_type": "execute_result"
    }
   ],
   "source": [
    "\n",
    "## for computing σUM score for ranking, change the voting_rule to any other voting rule function defined in Voting_rules.py\n",
    "## you can use similar syntax for the winner set version \n",
    "\n",
    "\n",
    "from Voting_rules import Ranked_Borda, Ranked_Plurality, Ranked_STV\n",
    "\n",
    "from fairness_metric import sigma_UM\n",
    "\n",
    "sigma_UM(profile, Ranked_Borda)  # Example using Borda count \n"
   ]
  },
  {
   "cell_type": "code",
   "execution_count": null,
   "metadata": {},
   "outputs": [
    {
     "data": {
      "text/plain": [
       "0.9910714285714286"
      ]
     },
     "execution_count": 4,
     "metadata": {},
     "output_type": "execute_result"
    }
   ],
   "source": [
    "\n",
    "## for computing σIIA score for ranking, change the voting_rule to any other voting rule function defined in Voting_rules.py\n",
    "## you can use similar syntax for the winner set version \n",
    "\n",
    "from Voting_rules import Ranked_Borda, Ranked_Plurality, Ranked_STV\n",
    "\n",
    "from fairness_metric import sigma_IIA\n",
    "\n",
    "sigma_IIA(profile, Ranked_Borda)  # Example using Borda count"
   ]
  },
  {
   "cell_type": "code",
   "execution_count": 18,
   "metadata": {},
   "outputs": [],
   "source": [
    "## Code for Portland elections for District 2,3,4.\n",
    "## the below code is only for district 2, but you can change the file path to the corresponding csv for district 3 and 4\n",
    "\n",
    "import pandas as pd\n",
    "\n",
    "df_2 = pd.read_csv('City_of_Portland__Councilor__District_2_2024_11_29_17_26_12.cvr.csv')\n",
    "\n"
   ]
  },
  {
   "cell_type": "code",
   "execution_count": 19,
   "metadata": {},
   "outputs": [],
   "source": [
    "# stores all columns that have ranking information\n",
    "rank_columns = {i:[col for col in df_2.columns if f'{i}:Number' in col] for i in range(1,7)}\n",
    "all_rank_cols = [col for col_list in rank_columns.values() for col in col_list]"
   ]
  },
  {
   "cell_type": "code",
   "execution_count": 20,
   "metadata": {},
   "outputs": [],
   "source": [
    "D2_voters_df = df_2[df_2[all_rank_cols].sum(axis=1) > 0].reset_index(drop=True) # just resets the index of the df"
   ]
  },
  {
   "cell_type": "code",
   "execution_count": 21,
   "metadata": {},
   "outputs": [],
   "source": [
    "ranking_data = {i:[-1 for _ in range(len(D2_voters_df))] for i in range(1,7)}\n",
    "\n",
    "for voter_index, row in D2_voters_df.iterrows():\n",
    "    for rank_position in range(1,7):\n",
    "        num_votes_cast = row[rank_columns[rank_position]].sum()\n",
    "\n",
    "        if num_votes_cast == 0:\n",
    "            cast_vote = \"\"\n",
    "\n",
    "        elif num_votes_cast > 1:\n",
    "            cast_vote = \"overvote\"\n",
    "\n",
    "            # here we lost knowledge of who was in the overvote. That's how Portland runs their election\n",
    "            # system, but it could be interesting to study who is in the overvote!\n",
    "\n",
    "        else:\n",
    "            # find candidate name from column\n",
    "            pd_series = row[rank_columns[rank_position]]\n",
    "            cast_vote_column_name = pd_series.loc[pd_series == 1].index.tolist()[0]\n",
    "            cast_vote = cast_vote_column_name.split(\":\")[-2]\n",
    "\n",
    "        ranking_data[rank_position][voter_index] = cast_vote\n",
    "\n",
    "# add the new columns\n",
    "for rank_position in range(1,7):\n",
    "    D2_voters_df[f\"Rank {rank_position}\"] = ranking_data[rank_position]"
   ]
  },
  {
   "cell_type": "code",
   "execution_count": 22,
   "metadata": {},
   "outputs": [
    {
     "data": {
      "text/html": [
       "<div>\n",
       "<style scoped>\n",
       "    .dataframe tbody tr th:only-of-type {\n",
       "        vertical-align: middle;\n",
       "    }\n",
       "\n",
       "    .dataframe tbody tr th {\n",
       "        vertical-align: top;\n",
       "    }\n",
       "\n",
       "    .dataframe thead th {\n",
       "        text-align: right;\n",
       "    }\n",
       "</style>\n",
       "<table border=\"1\" class=\"dataframe\">\n",
       "  <thead>\n",
       "    <tr style=\"text-align: right;\">\n",
       "      <th></th>\n",
       "      <th>RowNumber</th>\n",
       "      <th>BoxID</th>\n",
       "      <th>BoxPosition</th>\n",
       "      <th>BallotID</th>\n",
       "      <th>PrecinctID</th>\n",
       "      <th>BallotStyleID</th>\n",
       "      <th>PrecinctStyleName</th>\n",
       "      <th>ScanComputerName</th>\n",
       "      <th>Status</th>\n",
       "      <th>Remade</th>\n",
       "      <th>...</th>\n",
       "      <th>Choice_50004_1:City of Portland, Councilor, District 2:3:Number of Winners 3:Uncertified Write In:NON</th>\n",
       "      <th>Choice_50004_1:City of Portland, Councilor, District 2:4:Number of Winners 3:Uncertified Write In:NON</th>\n",
       "      <th>Choice_50004_1:City of Portland, Councilor, District 2:5:Number of Winners 3:Uncertified Write In:NON</th>\n",
       "      <th>Choice_50004_1:City of Portland, Councilor, District 2:6:Number of Winners 3:Uncertified Write In:NON</th>\n",
       "      <th>Rank 1</th>\n",
       "      <th>Rank 2</th>\n",
       "      <th>Rank 3</th>\n",
       "      <th>Rank 4</th>\n",
       "      <th>Rank 5</th>\n",
       "      <th>Rank 6</th>\n",
       "    </tr>\n",
       "  </thead>\n",
       "  <tbody>\n",
       "    <tr>\n",
       "      <th>0</th>\n",
       "      <td>9</td>\n",
       "      <td>RCV-0001</td>\n",
       "      <td>9</td>\n",
       "      <td>RCV-0001+10019</td>\n",
       "      <td>73</td>\n",
       "      <td>4</td>\n",
       "      <td>4305-1</td>\n",
       "      <td>ScanStation6</td>\n",
       "      <td>0</td>\n",
       "      <td>0</td>\n",
       "      <td>...</td>\n",
       "      <td>0</td>\n",
       "      <td>0</td>\n",
       "      <td>0</td>\n",
       "      <td>0</td>\n",
       "      <td>Marnie Glickman</td>\n",
       "      <td>Elana Pirtle-Guiney</td>\n",
       "      <td>Jonathan Tasini</td>\n",
       "      <td>Dan Ryan</td>\n",
       "      <td></td>\n",
       "      <td></td>\n",
       "    </tr>\n",
       "    <tr>\n",
       "      <th>1</th>\n",
       "      <td>10</td>\n",
       "      <td>RCV-0001</td>\n",
       "      <td>10</td>\n",
       "      <td>RCV-0001+10021</td>\n",
       "      <td>73</td>\n",
       "      <td>4</td>\n",
       "      <td>4305-1</td>\n",
       "      <td>ScanStation6</td>\n",
       "      <td>0</td>\n",
       "      <td>0</td>\n",
       "      <td>...</td>\n",
       "      <td>0</td>\n",
       "      <td>0</td>\n",
       "      <td>0</td>\n",
       "      <td>0</td>\n",
       "      <td>Marnie Glickman</td>\n",
       "      <td>Dan Ryan</td>\n",
       "      <td>Nabil Zaghloul</td>\n",
       "      <td></td>\n",
       "      <td></td>\n",
       "      <td></td>\n",
       "    </tr>\n",
       "    <tr>\n",
       "      <th>2</th>\n",
       "      <td>11</td>\n",
       "      <td>RCV-0001</td>\n",
       "      <td>11</td>\n",
       "      <td>RCV-0001+10023</td>\n",
       "      <td>69</td>\n",
       "      <td>4</td>\n",
       "      <td>3308-1</td>\n",
       "      <td>ScanStation6</td>\n",
       "      <td>0</td>\n",
       "      <td>0</td>\n",
       "      <td>...</td>\n",
       "      <td>0</td>\n",
       "      <td>0</td>\n",
       "      <td>0</td>\n",
       "      <td>0</td>\n",
       "      <td>Sameer Kanal</td>\n",
       "      <td>Michelle DePass</td>\n",
       "      <td>Tiffani Penson</td>\n",
       "      <td>Nat West</td>\n",
       "      <td></td>\n",
       "      <td></td>\n",
       "    </tr>\n",
       "    <tr>\n",
       "      <th>3</th>\n",
       "      <td>12</td>\n",
       "      <td>RCV-0001</td>\n",
       "      <td>12</td>\n",
       "      <td>RCV-0001+10025</td>\n",
       "      <td>2</td>\n",
       "      <td>4</td>\n",
       "      <td>4501-1</td>\n",
       "      <td>ScanStation6</td>\n",
       "      <td>0</td>\n",
       "      <td>0</td>\n",
       "      <td>...</td>\n",
       "      <td>0</td>\n",
       "      <td>0</td>\n",
       "      <td>0</td>\n",
       "      <td>0</td>\n",
       "      <td>Dan Ryan</td>\n",
       "      <td>Tiffani Penson</td>\n",
       "      <td>Nat West</td>\n",
       "      <td>Mariah Hudson</td>\n",
       "      <td>Jonathan Tasini</td>\n",
       "      <td>Elana Pirtle-Guiney</td>\n",
       "    </tr>\n",
       "    <tr>\n",
       "      <th>4</th>\n",
       "      <td>36</td>\n",
       "      <td>RCV-0001</td>\n",
       "      <td>36</td>\n",
       "      <td>RCV-0001+10073</td>\n",
       "      <td>28</td>\n",
       "      <td>4</td>\n",
       "      <td>4304-1</td>\n",
       "      <td>ScanStation6</td>\n",
       "      <td>0</td>\n",
       "      <td>0</td>\n",
       "      <td>...</td>\n",
       "      <td>0</td>\n",
       "      <td>0</td>\n",
       "      <td>0</td>\n",
       "      <td>0</td>\n",
       "      <td>Jennifer Park</td>\n",
       "      <td>Liz Taylor</td>\n",
       "      <td>Bob Simril</td>\n",
       "      <td>Laura Streib</td>\n",
       "      <td>Michelle DePass</td>\n",
       "      <td>Debbie Kitchin</td>\n",
       "    </tr>\n",
       "  </tbody>\n",
       "</table>\n",
       "<p>5 rows × 172 columns</p>\n",
       "</div>"
      ],
      "text/plain": [
       "   RowNumber     BoxID  BoxPosition        BallotID  PrecinctID  \\\n",
       "0          9  RCV-0001            9  RCV-0001+10019          73   \n",
       "1         10  RCV-0001           10  RCV-0001+10021          73   \n",
       "2         11  RCV-0001           11  RCV-0001+10023          69   \n",
       "3         12  RCV-0001           12  RCV-0001+10025           2   \n",
       "4         36  RCV-0001           36  RCV-0001+10073          28   \n",
       "\n",
       "   BallotStyleID PrecinctStyleName ScanComputerName  Status  Remade  ...  \\\n",
       "0              4            4305-1     ScanStation6       0       0  ...   \n",
       "1              4            4305-1     ScanStation6       0       0  ...   \n",
       "2              4            3308-1     ScanStation6       0       0  ...   \n",
       "3              4            4501-1     ScanStation6       0       0  ...   \n",
       "4              4            4304-1     ScanStation6       0       0  ...   \n",
       "\n",
       "   Choice_50004_1:City of Portland, Councilor, District 2:3:Number of Winners 3:Uncertified Write In:NON  \\\n",
       "0                                                  0                                                       \n",
       "1                                                  0                                                       \n",
       "2                                                  0                                                       \n",
       "3                                                  0                                                       \n",
       "4                                                  0                                                       \n",
       "\n",
       "   Choice_50004_1:City of Portland, Councilor, District 2:4:Number of Winners 3:Uncertified Write In:NON  \\\n",
       "0                                                  0                                                       \n",
       "1                                                  0                                                       \n",
       "2                                                  0                                                       \n",
       "3                                                  0                                                       \n",
       "4                                                  0                                                       \n",
       "\n",
       "   Choice_50004_1:City of Portland, Councilor, District 2:5:Number of Winners 3:Uncertified Write In:NON  \\\n",
       "0                                                  0                                                       \n",
       "1                                                  0                                                       \n",
       "2                                                  0                                                       \n",
       "3                                                  0                                                       \n",
       "4                                                  0                                                       \n",
       "\n",
       "   Choice_50004_1:City of Portland, Councilor, District 2:6:Number of Winners 3:Uncertified Write In:NON  \\\n",
       "0                                                  0                                                       \n",
       "1                                                  0                                                       \n",
       "2                                                  0                                                       \n",
       "3                                                  0                                                       \n",
       "4                                                  0                                                       \n",
       "\n",
       "            Rank 1               Rank 2           Rank 3         Rank 4  \\\n",
       "0  Marnie Glickman  Elana Pirtle-Guiney  Jonathan Tasini       Dan Ryan   \n",
       "1  Marnie Glickman             Dan Ryan   Nabil Zaghloul                  \n",
       "2     Sameer Kanal      Michelle DePass   Tiffani Penson       Nat West   \n",
       "3         Dan Ryan       Tiffani Penson         Nat West  Mariah Hudson   \n",
       "4    Jennifer Park           Liz Taylor       Bob Simril   Laura Streib   \n",
       "\n",
       "            Rank 5               Rank 6  \n",
       "0                                        \n",
       "1                                        \n",
       "2                                        \n",
       "3  Jonathan Tasini  Elana Pirtle-Guiney  \n",
       "4  Michelle DePass       Debbie Kitchin  \n",
       "\n",
       "[5 rows x 172 columns]"
      ]
     },
     "execution_count": 22,
     "metadata": {},
     "output_type": "execute_result"
    }
   ],
   "source": [
    "D2_voters_df.head()"
   ]
  },
  {
   "cell_type": "code",
   "execution_count": null,
   "metadata": {},
   "outputs": [],
   "source": [
    "D2_voters_df[[f\"Rank {rank_position}\" for rank_position in range(1,7)]].to_csv(\"Portland_D2_raw_votekit_format.csv\")"
   ]
  },
  {
   "cell_type": "code",
   "execution_count": 23,
   "metadata": {},
   "outputs": [],
   "source": [
    "from votekit.cvr_loaders import load_csv\n",
    "\n",
    "profile_D2 = load_csv(\"Portland_D2_raw_votekit_format.csv\", rank_cols=[1,2,3,4,5,6])"
   ]
  },
  {
   "cell_type": "code",
   "execution_count": 24,
   "metadata": {},
   "outputs": [
    {
     "data": {
      "text/plain": [
       "('Antonio Jamal PettyJohnBlue',\n",
       " 'Bob Simril',\n",
       " 'Chris Olson',\n",
       " 'Michelle DePass',\n",
       " 'Sameer Kanal',\n",
       " 'Debbie Kitchin',\n",
       " 'Laura Streib',\n",
       " 'Dan Ryan',\n",
       " 'Will Mespelt',\n",
       " 'James Armstrong',\n",
       " 'Mariah Hudson',\n",
       " 'Marnie Glickman',\n",
       " 'Tiffani Penson',\n",
       " 'Nabil Zaghloul',\n",
       " 'Elana Pirtle-Guiney',\n",
       " 'Liz Taylor',\n",
       " 'Jennifer Park',\n",
       " 'Nat West',\n",
       " 'overvote',\n",
       " 'Reuben Berlin',\n",
       " 'Michael (Mike) Marshall',\n",
       " 'Sam Sachs',\n",
       " 'Write-in-123',\n",
       " 'Jonathan Tasini',\n",
       " 'Uncertified Write In',\n",
       " 'Write-in-124',\n",
       " 'Write-in-125')"
      ]
     },
     "execution_count": 24,
     "metadata": {},
     "output_type": "execute_result"
    }
   ],
   "source": [
    "profile_D2.candidates"
   ]
  },
  {
   "cell_type": "code",
   "execution_count": 25,
   "metadata": {},
   "outputs": [],
   "source": [
    "from votekit.cleaning import remove_and_condense\n",
    "\n",
    "profile_portland_D2 = remove_and_condense(['overvote','Write-in-123','Uncertified Write In','Write-in-124', 'Write-in-125'], profile_D2)"
   ]
  },
  {
   "cell_type": "code",
   "execution_count": 26,
   "metadata": {},
   "outputs": [
    {
     "data": {
      "text/plain": [
       "0.9939393939393939"
      ]
     },
     "execution_count": 26,
     "metadata": {},
     "output_type": "execute_result"
    }
   ],
   "source": [
    "# code for computing the σIIA scores for ranking version\n",
    "\n",
    "# similar code could be used for computing the σIIA scores for the winner set version \n",
    "#chanhge the directory to import the fairness metrics and voting rules if needed\n",
    "\n",
    "import os\n",
    "os.chdir('/Users/ss2776/Desktop/Journal_QRAA/Quantitative_fairness') \n",
    "\n",
    "# example with  Plurality\n",
    "\n",
    "from Voting_rules import Ranked_Plurality\n",
    "\n",
    "from fairness_metric import sigma_IIA\n",
    "\n",
    "sigma_IIA(profile_portland_D2, Ranked_Plurality)"
   ]
  },
  {
   "cell_type": "code",
   "execution_count": 27,
   "metadata": {},
   "outputs": [
    {
     "data": {
      "text/plain": [
       "1.0"
      ]
     },
     "execution_count": 27,
     "metadata": {},
     "output_type": "execute_result"
    }
   ],
   "source": [
    "# code for computing the σUM scores for winner set version\n",
    "\n",
    "# similar code could be used for computing the σIIA scores for the ranking set version \n",
    "#chanhge the directory to import the fairness metrics and voting rules if needed\n",
    " \n",
    "\n",
    "# example with  Borda\n",
    "from votekit.elections import Borda\n",
    "from fairness_metric import sigma_UM_winner_set\n",
    "\n",
    "sigma_UM_winner_set(profile_portland_D2,Borda,3)"
   ]
  }
 ],
 "metadata": {
  "kernelspec": {
   "display_name": "portlandenv",
   "language": "python",
   "name": "python3"
  },
  "language_info": {
   "codemirror_mode": {
    "name": "ipython",
    "version": 3
   },
   "file_extension": ".py",
   "mimetype": "text/x-python",
   "name": "python",
   "nbconvert_exporter": "python",
   "pygments_lexer": "ipython3",
   "version": "3.12.11"
  }
 },
 "nbformat": 4,
 "nbformat_minor": 2
}
