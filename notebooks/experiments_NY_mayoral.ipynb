{
 "cells": [
  {
   "cell_type": "markdown",
   "metadata": {},
   "source": [
    "## This notebook is focused on New York Mayoral Democratic primary election\n"
   ]
  },
  {
   "cell_type": "code",
   "execution_count": null,
   "metadata": {},
   "outputs": [],
   "source": [
    "# Website for downloading the CVR : https://vote.nyc/page/election-results-summary \n",
    "# Download the CVR folder : 2025_Primary_CVR_2025-07-17 \n",
    "\n",
    "import os\n",
    "os.chdir('/Users/ss2776/Downloads/2025_Primary_CVR_2025-07-17')"
   ]
  },
  {
   "cell_type": "code",
   "execution_count": null,
   "metadata": {},
   "outputs": [
    {
     "name": "stdout",
     "output_type": "stream",
     "text": [
      "2025P5V1_ELE.xlsx\n",
      "2025P1V1_EMG.xlsx\n",
      "2025P2V1_ABS.xlsx\n",
      "2025P3V1_EAR2.xlsx\n",
      "2025P2V1_EAR.xlsx\n",
      "2025P2V1_ELE1.xlsx\n",
      "2025P1V1_EAR1.xlsx\n",
      "2025P2V1_AFF.xlsx\n",
      "2025P5V1_OTH.xlsx\n",
      "2025P3V1_EMG.xlsx\n",
      "2025P3V1_ELE3.xlsx\n",
      "2025P1V1_ELE1.xlsx\n",
      "2025P5V1_EAR.xlsx\n",
      "2025P4V1_ELE1.xlsx\n",
      "2025P3V1_ELE2.xlsx\n",
      "2025P5V1_EMG.xlsx\n",
      "2025P4V1_ELE2.xlsx\n",
      "2025P3V1_ELE1.xlsx\n",
      "2025P3V1_AFF.xlsx\n",
      "2025P4V1_ELE3.xlsx\n",
      "2025P3V1_ABS.xlsx\n",
      "2025P1V1_ELE2.xlsx\n",
      "2025P1V1_EAR2.xlsx\n",
      "Primary Election 2025 - 06-24-2025_CandidacyID_To_Name.xlsx\n",
      "2025P4V1_EAR.xlsx\n",
      "2025P4V1_ABS.xlsx\n",
      "2025P1V1_AFF.xlsx\n",
      "2025P2V1_ELE2.xlsx\n",
      "2025P1V1_ABS.xlsx\n",
      "2025P4V1_AFF.xlsx\n",
      "2025P2V1_EMG.xlsx\n",
      "2025P3V1_EAR1.xlsx\n"
     ]
    }
   ],
   "source": [
    "for file in os.listdir():\n",
    "    print(file)\n",
    "\n",
    "# \"Primary Election 2025 - 06-24-2025_CandidacyID_To_Name.xlsx \" contains the mapping of CandidacyID to Candidate Name\n",
    "# rest of the files contain ballots information"
   ]
  },
  {
   "cell_type": "code",
   "execution_count": null,
   "metadata": {},
   "outputs": [],
   "source": [
    "\n",
    "# Code for concatenating all the ballot files into a single file\n",
    "\n",
    "## code for making the entire dataframe of rankinss in NY mayoral primary election:\n",
    "\n",
    "import pandas as pd\n",
    "\n",
    "## The columns we are interested in for the New York Mayoral Democratic primary election\n",
    "choice_column = ['DEM Mayor Choice 1 of 5 Citywide (026916)',\n",
    "       'DEM Mayor Choice 2 of 5 Citywide (226916)',\n",
    "       'DEM Mayor Choice 3 of 5 Citywide (326916)',\n",
    "       'DEM Mayor Choice 4 of 5 Citywide (426916)',\n",
    "       'DEM Mayor Choice 5 of 5 Citywide (526916)']\n",
    "\n",
    "\n",
    "df_NY = pd.DataFrame()\n",
    "\n",
    "for file in os.listdir():\n",
    "    if file.endswith('.xlsx'):\n",
    "        df = pd.read_excel(file)\n",
    "\n",
    "        try:\n",
    "            df1 = df.loc[:, choice_column]\n",
    "            df_NY = pd.concat([df_NY, df1], ignore_index=True)\n",
    "            print(df_NY.shape)\n",
    "\n",
    "        except KeyError:\n",
    "            print(f\"File {file} does not contain the expected columns.\")\n",
    "            continue"
   ]
  },
  {
   "cell_type": "code",
   "execution_count": 11,
   "metadata": {},
   "outputs": [
    {
     "name": "stderr",
     "output_type": "stream",
     "text": [
      "/Users/ss2776/Desktop/Anaconda/anaconda3/envs/portlandenv/lib/python3.12/site-packages/openpyxl/styles/stylesheet.py:237: UserWarning: Workbook contains no default style, apply openpyxl's default\n",
      "  warn(\"Workbook contains no default style, apply openpyxl's default\")\n"
     ]
    },
    {
     "data": {
      "text/html": [
       "<div>\n",
       "<style scoped>\n",
       "    .dataframe tbody tr th:only-of-type {\n",
       "        vertical-align: middle;\n",
       "    }\n",
       "\n",
       "    .dataframe tbody tr th {\n",
       "        vertical-align: top;\n",
       "    }\n",
       "\n",
       "    .dataframe thead th {\n",
       "        text-align: right;\n",
       "    }\n",
       "</style>\n",
       "<table border=\"1\" class=\"dataframe\">\n",
       "  <thead>\n",
       "    <tr style=\"text-align: right;\">\n",
       "      <th></th>\n",
       "      <th>CandidacyID</th>\n",
       "      <th>DefaultBallotName</th>\n",
       "    </tr>\n",
       "  </thead>\n",
       "  <tbody>\n",
       "    <tr>\n",
       "      <th>7</th>\n",
       "      <td>254052</td>\n",
       "      <td>Andrew M. Cuomo</td>\n",
       "    </tr>\n",
       "    <tr>\n",
       "      <th>11</th>\n",
       "      <td>254130</td>\n",
       "      <td>Brad Lander</td>\n",
       "    </tr>\n",
       "    <tr>\n",
       "      <th>41</th>\n",
       "      <td>254286</td>\n",
       "      <td>Zohran Kwame Mamdani</td>\n",
       "    </tr>\n",
       "    <tr>\n",
       "      <th>50</th>\n",
       "      <td>254365</td>\n",
       "      <td>Jessica Ramos</td>\n",
       "    </tr>\n",
       "    <tr>\n",
       "      <th>58</th>\n",
       "      <td>254393</td>\n",
       "      <td>Scott M. Stringer</td>\n",
       "    </tr>\n",
       "    <tr>\n",
       "      <th>93</th>\n",
       "      <td>254607</td>\n",
       "      <td>Michael Blake</td>\n",
       "    </tr>\n",
       "    <tr>\n",
       "      <th>213</th>\n",
       "      <td>255950</td>\n",
       "      <td>Zellnor Myrie</td>\n",
       "    </tr>\n",
       "    <tr>\n",
       "      <th>435</th>\n",
       "      <td>257441</td>\n",
       "      <td>Whitney R. Tilson</td>\n",
       "    </tr>\n",
       "    <tr>\n",
       "      <th>447</th>\n",
       "      <td>257465</td>\n",
       "      <td>Adrienne E. Adams</td>\n",
       "    </tr>\n",
       "    <tr>\n",
       "      <th>616</th>\n",
       "      <td>258719</td>\n",
       "      <td>Paperboy Love Prince</td>\n",
       "    </tr>\n",
       "    <tr>\n",
       "      <th>629</th>\n",
       "      <td>258821</td>\n",
       "      <td>Selma K. Bartholomew</td>\n",
       "    </tr>\n",
       "  </tbody>\n",
       "</table>\n",
       "</div>"
      ],
      "text/plain": [
       "     CandidacyID     DefaultBallotName\n",
       "7         254052       Andrew M. Cuomo\n",
       "11        254130           Brad Lander\n",
       "41        254286  Zohran Kwame Mamdani\n",
       "50        254365         Jessica Ramos\n",
       "58        254393     Scott M. Stringer\n",
       "93        254607         Michael Blake\n",
       "213       255950         Zellnor Myrie\n",
       "435       257441     Whitney R. Tilson\n",
       "447       257465     Adrienne E. Adams\n",
       "616       258719  Paperboy Love Prince\n",
       "629       258821  Selma K. Bartholomew"
      ]
     },
     "execution_count": 11,
     "metadata": {},
     "output_type": "execute_result"
    }
   ],
   "source": [
    "# Code for matching the CandidacyID to Candidate Name\n",
    "#Choose any .xlsx file, I choose '2025P2V1_ABS.xlsx' as an example \n",
    "\n",
    "df = pd.read_excel('2025P2V1_ABS.xlsx')\n",
    "\n",
    "df_candidate_ID = pd.read_excel('Primary Election 2025 - 06-24-2025_CandidacyID_To_Name.xlsx')\n",
    "\n",
    "cand_list = [int(x) if x.isdigit() else x for x in df[\"DEM Mayor Choice 1 of 5 Citywide (026916)\"].unique()]\n",
    "df_candidate_ID[df_candidate_ID[\"CandidacyID\"].isin(cand_list)]\n",
    "\n",
    "df_NY_cand = df_candidate_ID[df_candidate_ID[\"CandidacyID\"].isin(cand_list)]\n",
    "\n",
    "df_NY_cand\n",
    "\n",
    "\n"
   ]
  },
  {
   "cell_type": "code",
   "execution_count": null,
   "metadata": {},
   "outputs": [],
   "source": [
    "df_NY = df_NY.astype(str)\n",
    "\n",
    "df_NY_cand[\"CandidacyID\"] = df_NY_cand[\"CandidacyID\"].astype(str)"
   ]
  },
  {
   "cell_type": "code",
   "execution_count": 22,
   "metadata": {},
   "outputs": [
    {
     "name": "stdout",
     "output_type": "stream",
     "text": [
      "254052 : Andrew M. Cuomo\n",
      "254130 : Brad Lander\n",
      "254286 : Zohran Kwame Mamdani\n",
      "254365 : Jessica Ramos\n",
      "254393 : Scott M. Stringer\n",
      "254607 : Michael Blake\n",
      "255950 : Zellnor Myrie\n",
      "257441 : Whitney R. Tilson\n",
      "257465 : Adrienne E. Adams\n",
      "258719 : Paperboy Love Prince\n",
      "258821 : Selma K. Bartholomew\n"
     ]
    }
   ],
   "source": [
    "\n",
    "# Make a dictinary to map CandidacyID to Candidate Name\n",
    "\n",
    "cand_dict = dict(zip(df_NY_cand[\"CandidacyID\"], df_NY_cand[\"DefaultBallotName\"]))\n",
    "\n",
    "for k, v in cand_dict.items():\n",
    "    print(f\"{k} : {v}\")"
   ]
  },
  {
   "cell_type": "code",
   "execution_count": 23,
   "metadata": {},
   "outputs": [
    {
     "data": {
      "text/html": [
       "<div>\n",
       "<style scoped>\n",
       "    .dataframe tbody tr th:only-of-type {\n",
       "        vertical-align: middle;\n",
       "    }\n",
       "\n",
       "    .dataframe tbody tr th {\n",
       "        vertical-align: top;\n",
       "    }\n",
       "\n",
       "    .dataframe thead th {\n",
       "        text-align: right;\n",
       "    }\n",
       "</style>\n",
       "<table border=\"1\" class=\"dataframe\">\n",
       "  <thead>\n",
       "    <tr style=\"text-align: right;\">\n",
       "      <th></th>\n",
       "      <th>DEM Mayor Choice 1 of 5 Citywide (026916)</th>\n",
       "      <th>DEM Mayor Choice 2 of 5 Citywide (226916)</th>\n",
       "      <th>DEM Mayor Choice 3 of 5 Citywide (326916)</th>\n",
       "      <th>DEM Mayor Choice 4 of 5 Citywide (426916)</th>\n",
       "      <th>DEM Mayor Choice 5 of 5 Citywide (526916)</th>\n",
       "    </tr>\n",
       "  </thead>\n",
       "  <tbody>\n",
       "    <tr>\n",
       "      <th>0</th>\n",
       "      <td>undervote</td>\n",
       "      <td>undervote</td>\n",
       "      <td>undervote</td>\n",
       "      <td>undervote</td>\n",
       "      <td>undervote</td>\n",
       "    </tr>\n",
       "    <tr>\n",
       "      <th>1</th>\n",
       "      <td>Andrew M. Cuomo</td>\n",
       "      <td>Scott M. Stringer</td>\n",
       "      <td>undervote</td>\n",
       "      <td>undervote</td>\n",
       "      <td>undervote</td>\n",
       "    </tr>\n",
       "    <tr>\n",
       "      <th>2</th>\n",
       "      <td>Andrew M. Cuomo</td>\n",
       "      <td>Jessica Ramos</td>\n",
       "      <td>Brad Lander</td>\n",
       "      <td>Zohran Kwame Mamdani</td>\n",
       "      <td>Scott M. Stringer</td>\n",
       "    </tr>\n",
       "    <tr>\n",
       "      <th>3</th>\n",
       "      <td>Andrew M. Cuomo</td>\n",
       "      <td>Scott M. Stringer</td>\n",
       "      <td>Brad Lander</td>\n",
       "      <td>Whitney R. Tilson</td>\n",
       "      <td>Zellnor Myrie</td>\n",
       "    </tr>\n",
       "    <tr>\n",
       "      <th>4</th>\n",
       "      <td>Zohran Kwame Mamdani</td>\n",
       "      <td>Brad Lander</td>\n",
       "      <td>undervote</td>\n",
       "      <td>undervote</td>\n",
       "      <td>undervote</td>\n",
       "    </tr>\n",
       "    <tr>\n",
       "      <th>5</th>\n",
       "      <td>Andrew M. Cuomo</td>\n",
       "      <td>Zohran Kwame Mamdani</td>\n",
       "      <td>Jessica Ramos</td>\n",
       "      <td>Scott M. Stringer</td>\n",
       "      <td>Brad Lander</td>\n",
       "    </tr>\n",
       "    <tr>\n",
       "      <th>6</th>\n",
       "      <td>Adrienne E. Adams</td>\n",
       "      <td>Brad Lander</td>\n",
       "      <td>Scott M. Stringer</td>\n",
       "      <td>Zohran Kwame Mamdani</td>\n",
       "      <td>Whitney R. Tilson</td>\n",
       "    </tr>\n",
       "    <tr>\n",
       "      <th>7</th>\n",
       "      <td>Adrienne E. Adams</td>\n",
       "      <td>Brad Lander</td>\n",
       "      <td>Zohran Kwame Mamdani</td>\n",
       "      <td>Scott M. Stringer</td>\n",
       "      <td>Jessica Ramos</td>\n",
       "    </tr>\n",
       "    <tr>\n",
       "      <th>8</th>\n",
       "      <td>Andrew M. Cuomo</td>\n",
       "      <td>Scott M. Stringer</td>\n",
       "      <td>Write-in</td>\n",
       "      <td>undervote</td>\n",
       "      <td>undervote</td>\n",
       "    </tr>\n",
       "    <tr>\n",
       "      <th>9</th>\n",
       "      <td>Andrew M. Cuomo</td>\n",
       "      <td>undervote</td>\n",
       "      <td>undervote</td>\n",
       "      <td>undervote</td>\n",
       "      <td>undervote</td>\n",
       "    </tr>\n",
       "  </tbody>\n",
       "</table>\n",
       "</div>"
      ],
      "text/plain": [
       "  DEM Mayor Choice 1 of 5 Citywide (026916)  \\\n",
       "0                                 undervote   \n",
       "1                           Andrew M. Cuomo   \n",
       "2                           Andrew M. Cuomo   \n",
       "3                           Andrew M. Cuomo   \n",
       "4                      Zohran Kwame Mamdani   \n",
       "5                           Andrew M. Cuomo   \n",
       "6                         Adrienne E. Adams   \n",
       "7                         Adrienne E. Adams   \n",
       "8                           Andrew M. Cuomo   \n",
       "9                           Andrew M. Cuomo   \n",
       "\n",
       "  DEM Mayor Choice 2 of 5 Citywide (226916)  \\\n",
       "0                                 undervote   \n",
       "1                         Scott M. Stringer   \n",
       "2                             Jessica Ramos   \n",
       "3                         Scott M. Stringer   \n",
       "4                               Brad Lander   \n",
       "5                      Zohran Kwame Mamdani   \n",
       "6                               Brad Lander   \n",
       "7                               Brad Lander   \n",
       "8                         Scott M. Stringer   \n",
       "9                                 undervote   \n",
       "\n",
       "  DEM Mayor Choice 3 of 5 Citywide (326916)  \\\n",
       "0                                 undervote   \n",
       "1                                 undervote   \n",
       "2                               Brad Lander   \n",
       "3                               Brad Lander   \n",
       "4                                 undervote   \n",
       "5                             Jessica Ramos   \n",
       "6                         Scott M. Stringer   \n",
       "7                      Zohran Kwame Mamdani   \n",
       "8                                  Write-in   \n",
       "9                                 undervote   \n",
       "\n",
       "  DEM Mayor Choice 4 of 5 Citywide (426916)  \\\n",
       "0                                 undervote   \n",
       "1                                 undervote   \n",
       "2                      Zohran Kwame Mamdani   \n",
       "3                         Whitney R. Tilson   \n",
       "4                                 undervote   \n",
       "5                         Scott M. Stringer   \n",
       "6                      Zohran Kwame Mamdani   \n",
       "7                         Scott M. Stringer   \n",
       "8                                 undervote   \n",
       "9                                 undervote   \n",
       "\n",
       "  DEM Mayor Choice 5 of 5 Citywide (526916)  \n",
       "0                                 undervote  \n",
       "1                                 undervote  \n",
       "2                         Scott M. Stringer  \n",
       "3                             Zellnor Myrie  \n",
       "4                                 undervote  \n",
       "5                               Brad Lander  \n",
       "6                         Whitney R. Tilson  \n",
       "7                             Jessica Ramos  \n",
       "8                                 undervote  \n",
       "9                                 undervote  "
      ]
     },
     "execution_count": 23,
     "metadata": {},
     "output_type": "execute_result"
    }
   ],
   "source": [
    "## replace the CandidacyID in df_NY with Candidate Name\n",
    "\n",
    "df_NY_Mayor = df_NY.replace(cand_dict)\n",
    "\n",
    "df_NY_Mayor.head(10)"
   ]
  },
  {
   "cell_type": "code",
   "execution_count": null,
   "metadata": {},
   "outputs": [],
   "source": [
    "# save the dataframe to a csv file\n",
    "\n",
    "df_NY_Mayor.to_csv('/Users/ss2776/Downloads/profile_NYMayor.csv', index=False)"
   ]
  },
  {
   "cell_type": "code",
   "execution_count": 24,
   "metadata": {},
   "outputs": [
    {
     "data": {
      "text/plain": [
       "Profile contains rankings: True\n",
       "Maximum ranking length: 5\n",
       "Profile contains scores: False\n",
       "Candidates: ('Adrienne E. Adams', 'Andrew M. Cuomo', 'Brad Lander', 'Jessica Ramos', 'Michael Blake', 'Paperboy Love Prince', 'Scott M. Stringer', 'Whitney R. Tilson', 'Zellnor Myrie', 'Zohran Kwame Mamdani', 'undervote', 'Selma K. Bartholomew', 'overvote', 'Write-in')\n",
       "Candidates who received votes: ('Adrienne E. Adams', 'Andrew M. Cuomo', 'Brad Lander', 'Jessica Ramos', 'Michael Blake', 'Paperboy Love Prince', 'Scott M. Stringer', 'Whitney R. Tilson', 'Zellnor Myrie', 'Zohran Kwame Mamdani', 'undervote', 'Selma K. Bartholomew', 'overvote', 'Write-in')\n",
       "Total number of Ballot objects: 42655\n",
       "Total weight of Ballot objects: 1114433.0"
      ]
     },
     "execution_count": 24,
     "metadata": {},
     "output_type": "execute_result"
    }
   ],
   "source": [
    "from votekit.cvr_loaders import load_csv\n",
    "\n",
    "# Load the CSV file into a voytekit profile\n",
    "\n",
    "profile = load_csv('/Users/ss2776/Downloads/profile_NYMayor.csv')\n",
    "\n",
    "profile"
   ]
  },
  {
   "cell_type": "code",
   "execution_count": null,
   "metadata": {},
   "outputs": [
    {
     "data": {
      "text/plain": [
       "Profile has been cleaned\n",
       "Profile contains rankings: True\n",
       "Maximum ranking length: 5\n",
       "Profile contains scores: False\n",
       "Candidates: ('Brad Lander', 'Zohran Kwame Mamdani', 'Jessica Ramos', 'Adrienne E. Adams', 'Paperboy Love Prince', 'Scott M. Stringer', 'Whitney R. Tilson', 'Selma K. Bartholomew', 'Andrew M. Cuomo', 'Michael Blake', 'Zellnor Myrie')\n",
       "Candidates who received votes: ('Adrienne E. Adams', 'Andrew M. Cuomo', 'Brad Lander', 'Jessica Ramos', 'Michael Blake', 'Paperboy Love Prince', 'Scott M. Stringer', 'Whitney R. Tilson', 'Zellnor Myrie', 'Zohran Kwame Mamdani', 'Selma K. Bartholomew')\n",
       "Total number of Ballot objects: 42609\n",
       "Total weight of Ballot objects: 1073331.0"
      ]
     },
     "execution_count": 25,
     "metadata": {},
     "output_type": "execute_result"
    }
   ],
   "source": [
    "# code for removing undervotes, overvotes and write-ins from the profile\n",
    "\n",
    "from votekit.cleaning import remove_and_condense\n",
    "\n",
    "profile_NY_Mayor = remove_and_condense(['undervote', 'overvote','Write-in'], profile)\n",
    "\n",
    "profile_NY_Mayor\n",
    "\n",
    "## profile_NY_Mayor is the cleaned profile which can be used for calculating fairness scores and other analyses\n",
    "\n",
    "\n"
   ]
  },
  {
   "cell_type": "code",
   "execution_count": 28,
   "metadata": {},
   "outputs": [
    {
     "data": {
      "text/plain": [
       "[{'Zohran Kwame Mamdani'},\n",
       " {'Brad Lander'},\n",
       " {'Adrienne E. Adams'},\n",
       " {'Andrew M. Cuomo'},\n",
       " {'Zellnor Myrie'},\n",
       " {'Scott M. Stringer'},\n",
       " {'Michael Blake'},\n",
       " {'Jessica Ramos'},\n",
       " {'Whitney R. Tilson'},\n",
       " {'Selma K. Bartholomew'},\n",
       " {'Paperboy Love Prince'}]"
      ]
     },
     "execution_count": 28,
     "metadata": {},
     "output_type": "execute_result"
    }
   ],
   "source": [
    "# code for getting the condercet ladder\n",
    "\n",
    "from votekit.graphs import PairwiseComparisonGraph\n",
    "\n",
    "PairwiseComparisonGraph(profile_NY_Mayor).get_dominating_tiers()"
   ]
  },
  {
   "cell_type": "code",
   "execution_count": 32,
   "metadata": {},
   "outputs": [
    {
     "data": {
      "text/plain": [
       "0.9777777777777777"
      ]
     },
     "execution_count": 32,
     "metadata": {},
     "output_type": "execute_result"
    }
   ],
   "source": [
    "# code for computing the σIIA scores for ranking version\n",
    "\n",
    "# similar code could be used for computing the σIIA scores for the winner set version \n",
    "#chanhge the directory to import the fairness metrics and voting rules if needed\n",
    "\n",
    "\n",
    "os.chdir('/Users/ss2776/Desktop/Journal_QRAA/Quantitative_fairness') \n",
    "\n",
    "# example with  Plurality\n",
    "\n",
    "from Voting_rules import Ranked_Plurality\n",
    "\n",
    "from fairness_metric import sigma_IIA\n",
    "\n",
    "sigma_IIA(profile_NY_Mayor, Ranked_Plurality)\n",
    "\n"
   ]
  },
  {
   "cell_type": "code",
   "execution_count": 34,
   "metadata": {},
   "outputs": [
    {
     "data": {
      "text/plain": [
       "1.0"
      ]
     },
     "execution_count": 34,
     "metadata": {},
     "output_type": "execute_result"
    }
   ],
   "source": [
    "# code for computing the σUM scores for winner set version\n",
    "\n",
    "# similar code could be used for computing the σIIA scores for the ranking set version \n",
    "#chanhge the directory to import the fairness metrics and voting rules if needed\n",
    " \n",
    "\n",
    "# example with  Borda\n",
    "from votekit.elections import Borda\n",
    "from fairness_metric import sigma_UM_winner_set\n",
    "\n",
    "sigma_UM_winner_set(profile_NY_Mayor,Borda,1)"
   ]
  }
 ],
 "metadata": {
  "kernelspec": {
   "display_name": "portlandenv",
   "language": "python",
   "name": "python3"
  },
  "language_info": {
   "codemirror_mode": {
    "name": "ipython",
    "version": 3
   },
   "file_extension": ".py",
   "mimetype": "text/x-python",
   "name": "python",
   "nbconvert_exporter": "python",
   "pygments_lexer": "ipython3",
   "version": "3.12.11"
  }
 },
 "nbformat": 4,
 "nbformat_minor": 2
}
